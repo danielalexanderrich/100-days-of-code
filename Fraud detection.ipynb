{
 "cells": [
  {
   "cell_type": "code",
   "execution_count": 1,
   "metadata": {},
   "outputs": [
    {
     "name": "stdout",
     "output_type": "stream",
     "text": [
      "Libraries imported\n"
     ]
    }
   ],
   "source": [
    "import pandas as pd\n",
    "from sklearn.model_selection import train_test_split\n",
    "from sklearn import svm\n",
    "print(\"Libraries imported\")"
   ]
  },
  {
   "cell_type": "code",
   "execution_count": 2,
   "metadata": {},
   "outputs": [
    {
     "name": "stdout",
     "output_type": "stream",
     "text": [
      "Data loaded\n"
     ]
    }
   ],
   "source": [
    "fraudData = pd.read_csv(\"creditcard.csv\")\n",
    "print(\"Data loaded\")"
   ]
  },
  {
   "cell_type": "code",
   "execution_count": 7,
   "metadata": {},
   "outputs": [
    {
     "name": "stdout",
     "output_type": "stream",
     "text": [
      "121866    0\n",
      "31998     0\n",
      "231349    0\n",
      "184562    0\n",
      "78024     0\n",
      "Name: Class, dtype: int64\n",
      "            Time        V1        V2        V3        V4        V5        V6  \\\n",
      "121866   76349.0 -0.405924 -0.806511  1.365331 -2.016161 -1.256221 -0.648794   \n",
      "31998    36599.0 -1.366215  0.881316  1.066160 -1.558941  0.463986  0.030289   \n",
      "231349  146724.0  1.277080 -2.246685 -1.786959 -0.537784 -0.786319 -0.270604   \n",
      "184562  126294.0 -2.879723  3.799432 -2.568345 -1.260830  2.573558 -1.813112   \n",
      "78024    57332.0  1.249063  0.336454  0.300224  0.697368 -0.383148 -1.074079   \n",
      "\n",
      "              V7        V8        V9   ...         V20       V21       V22  \\\n",
      "121866  0.162023 -0.150658 -2.029903   ...   -0.092490 -0.177931 -0.251574   \n",
      "31998   0.618267 -0.107876  0.367704   ...   -0.075049 -0.012970  0.233016   \n",
      "231349  0.136012 -0.274590 -0.626250   ...    0.965106  0.466890  0.416092   \n",
      "184562  2.977714 -1.639087  2.646432   ...    2.182970 -0.842524 -0.254520   \n",
      "78024   0.085892 -0.199963  0.044985   ...   -0.078694 -0.286331 -0.838839   \n",
      "\n",
      "             V23       V24       V25       V26       V27       V28  Amount  \n",
      "121866  0.282455  0.348609 -0.311111 -0.455006  0.120003  0.164305  132.00  \n",
      "31998   0.130177 -0.236142 -0.372590  0.732473 -0.443263 -0.153917    0.77  \n",
      "231349 -0.291026  0.849742 -0.040296 -0.226095 -0.118275  0.014541  473.42  \n",
      "184562 -0.740594 -1.141080  1.190389  0.281287  0.574947 -0.201895    7.59  \n",
      "78024   0.127136  0.343220  0.211820  0.094294 -0.024331  0.031286    5.49  \n",
      "\n",
      "[5 rows x 30 columns]\n"
     ]
    }
   ],
   "source": [
    "train, test = train_test_split(fraudData, test_size = 0.2)\n",
    "\n",
    "\n",
    "train_class = train.pop('Class')\n",
    "print(train_class.head())\n",
    "train_data = train\n",
    "print(train_data.head())\n"
   ]
  },
  {
   "cell_type": "code",
   "execution_count": 6,
   "metadata": {},
   "outputs": [
    {
     "name": "stderr",
     "output_type": "stream",
     "text": [
      "C:\\Users\\synth\\AppData\\Local\\Continuum\\anaconda3\\lib\\site-packages\\sklearn\\svm\\base.py:922: ConvergenceWarning: Liblinear failed to converge, increase the number of iterations.\n",
      "  \"the number of iterations.\", ConvergenceWarning)\n"
     ]
    },
    {
     "data": {
      "text/plain": [
       "LinearSVC(C=1.0, class_weight=None, dual=True, fit_intercept=True,\n",
       "     intercept_scaling=1, loss='squared_hinge', max_iter=1000,\n",
       "     multi_class='ovr', penalty='l2', random_state=None, tol=0.0001,\n",
       "     verbose=0)"
      ]
     },
     "execution_count": 6,
     "metadata": {},
     "output_type": "execute_result"
    }
   ],
   "source": [
    "\n",
    "classifier = svm.LinearSVC()\n",
    "classifier.fit(train_data[:-1], train_class[:-1])"
   ]
  },
  {
   "cell_type": "markdown",
   "metadata": {},
   "source": [
    "The classifier.fit method returned \"Liblinear failed to converge, increase the number of iterations.\" \n",
    "\n",
    "I read that this means that the data is not well posed for a linearSVC. I will have to read more about this. The regular SVC uses a nonlinear kernel, resulting in much higher complexity. I didn't want to wait so long to get the model up and running. I will explore this model (and other types of classifiers used in fraud detection) and see what the industry uses. "
   ]
  }
 ],
 "metadata": {
  "kernelspec": {
   "display_name": "Python 3",
   "language": "python",
   "name": "python3"
  },
  "language_info": {
   "codemirror_mode": {
    "name": "ipython",
    "version": 3
   },
   "file_extension": ".py",
   "mimetype": "text/x-python",
   "name": "python",
   "nbconvert_exporter": "python",
   "pygments_lexer": "ipython3",
   "version": "3.7.1"
  }
 },
 "nbformat": 4,
 "nbformat_minor": 2
}
